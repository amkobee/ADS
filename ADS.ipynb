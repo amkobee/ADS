{
  "nbformat": 4,
  "nbformat_minor": 0,
  "metadata": {
    "colab": {
      "name": "ADS.ipynb",
      "provenance": [],
      "authorship_tag": "ABX9TyMvPAIgEAg1mJEAGEUcVjSR",
      "include_colab_link": true
    },
    "kernelspec": {
      "name": "python3",
      "display_name": "Python 3"
    },
    "language_info": {
      "name": "python"
    }
  },
  "cells": [
    {
      "cell_type": "markdown",
      "metadata": {
        "id": "view-in-github",
        "colab_type": "text"
      },
      "source": [
        "<a href=\"https://colab.research.google.com/github/amkobee/ADS/blob/main/ADS.ipynb\" target=\"_parent\"><img src=\"https://colab.research.google.com/assets/colab-badge.svg\" alt=\"Open In Colab\"/></a>"
      ]
    },
    {
      "cell_type": "code",
      "metadata": {
        "id": "0GkRvWkTStDN"
      },
      "source": [
        "# import libraries\n",
        "import random\n",
        "import urllib.request\n",
        "import os"
      ],
      "execution_count": 18,
      "outputs": []
    },
    {
      "cell_type": "code",
      "metadata": {
        "id": "tvHRlXwUSYrt",
        "cellView": "code"
      },
      "source": [
        "# set to False to not download new photos\n",
        "download_new_photos = False\n",
        "\n",
        "# Function to download pictures from Flickr\n",
        "\n",
        "def download_photos():\n",
        "\n",
        "    # install and import FlickrAPI package\n",
        "    !pip install flickrapi\n",
        "    from flickrapi import FlickrAPI\n",
        "\n",
        "    # Keys for flickr API\n",
        "    FLICKR_PUBLIC = '5829447acb20544b640f7c58b058614a'\n",
        "    FLICKR_SECRET = '856705a9f309b147'\n",
        "\n",
        "    # Settings (extras = different resolution of photos)\n",
        "    flickr = FlickrAPI(FLICKR_PUBLIC, FLICKR_SECRET, format='parsed-json')\n",
        "    extras = 'url_s'\n",
        "\n",
        "    # how many photos per category\n",
        "    TOTAL_PHOTOS = 2000\n",
        "    PHOTOS_PER_PAGE = 500\n",
        "\n",
        "    # the keywords to look photos for\n",
        "    # keywords = ['mountain', 'forest', 'river', 'sea', 'desert']\n",
        "    keywords = ['sea', 'desert']\n",
        "\n",
        "    cwd = os.getcwd()\n",
        "    print(f'Photos will be stored at: {cwd}')\n",
        "\n",
        "    # create photos directory\n",
        "    try:\n",
        "        os.mkdir('photos')\n",
        "        print('Created folder photos')\n",
        "    except:\n",
        "        print('Folder \"photos\" already exists')\n",
        "\n",
        "    # download the photos per keyword\n",
        "    for word in keywords:\n",
        "        # get all photos of the category\n",
        "        page = 1\n",
        "        photos = flickr.photos.search(tags=word, text=word, page=page, per_page=PHOTOS_PER_PAGE, extras=extras, content_type=1)\n",
        "\n",
        "        # create subfolders\n",
        "        try:\n",
        "            os.mkdir('photos/'+word)\n",
        "            print('Created folder ' + word)\n",
        "        except:\n",
        "            print(f'Folder \"{word}\" already exists')\n",
        "\n",
        "        # download the photos\n",
        "        j = 1 # index for filenames - won't be reset\n",
        "        filename = ''\n",
        "        batch = 1\n",
        "        total_batch = int(TOTAL_PHOTOS/100)\n",
        "\n",
        "        while j <= TOTAL_PHOTOS:\n",
        "            i = random.randint(1, PHOTOS_PER_PAGE-1)\n",
        "            try:\n",
        "                url = photos['photos']['photo'][i]['url_s']\n",
        "            except:\n",
        "                try:\n",
        "                  error_photo = photos['photos']['photo'][i]\n",
        "                  print(f'Error at {error_photo}')\n",
        "                except:\n",
        "                  pass\n",
        "\n",
        "            filename = 'photo_' + str(j) + '.jpg'\n",
        "            directory = 'photos/' + word + \"/\" + filename\n",
        "            urllib.request.urlretrieve(url, directory)\n",
        "            #print(f'Category {word}: Page {page}; Downloading {j} of {TOTAL_PHOTOS}')\n",
        "            if j % 100 == 0:\n",
        "                print(f'Batch {batch} of {total_batch} done')\n",
        "                batch += 1\n",
        "            j += 1\n",
        "\n",
        "            # reached end of page - reset i and increase page\n",
        "            if j % 500 == 0:\n",
        "                page += 1\n",
        "                print('Reached end of page')\n",
        "                photos = flickr.photos.search(text=word, page=page, per_page=PHOTOS_PER_PAGE, extras=extras, content_type=1)\n",
        "\n",
        "\n",
        "    print('Finished downloading the photos')\n",
        "    \n",
        "    # store all in zip and download\n",
        "    print('Creating zip file and download it')\n",
        "    !zip -r /content/photos/photos.zip /content/photos\n",
        "    from google.colab import files\n",
        "    files.download(\"/content/photos/photos.zip\")\n",
        "\n",
        "if download_new_photos:\n",
        "    download_photos()"
      ],
      "execution_count": null,
      "outputs": []
    },
    {
      "cell_type": "code",
      "metadata": {
        "id": "QygnGvNpSWej"
      },
      "source": [
        "# Data preparation and cleansing\n"
      ],
      "execution_count": 5,
      "outputs": []
    },
    {
      "cell_type": "code",
      "metadata": {
        "id": "InR0K3HHS1zj"
      },
      "source": [
        "# Train model\n",
        "\n"
      ],
      "execution_count": null,
      "outputs": []
    },
    {
      "cell_type": "code",
      "metadata": {
        "id": "DCYkaOkiS6Fx"
      },
      "source": [
        "# Scrape pictures and classify\n",
        "\n"
      ],
      "execution_count": null,
      "outputs": []
    },
    {
      "cell_type": "code",
      "metadata": {
        "id": "AQYysMcfTDkn"
      },
      "source": [
        "# test"
      ],
      "execution_count": null,
      "outputs": []
    },
    {
      "cell_type": "code",
      "metadata": {
        "id": "iT_w_0wHUIiD"
      },
      "source": [
        ""
      ],
      "execution_count": null,
      "outputs": []
    },
    {
      "cell_type": "code",
      "metadata": {
        "id": "JiCgBUMzULMR"
      },
      "source": [
        ""
      ],
      "execution_count": null,
      "outputs": []
    }
  ]
}